{
 "cells": [
  {
   "cell_type": "code",
   "execution_count": 2,
   "metadata": {},
   "outputs": [],
   "source": [
    "import pandas as pd\n",
    "import numpy as np"
   ]
  },
  {
   "cell_type": "code",
   "execution_count": 3,
   "metadata": {},
   "outputs": [],
   "source": [
    "df_games=pd.read_parquet('ETL_games_clean')\n",
    "df_reviews = pd.read_parquet('ETL_user_reviews_clean')"
   ]
  },
  {
   "cell_type": "code",
   "execution_count": 4,
   "metadata": {},
   "outputs": [
    {
     "data": {
      "text/html": [
       "<div>\n",
       "<style scoped>\n",
       "    .dataframe tbody tr th:only-of-type {\n",
       "        vertical-align: middle;\n",
       "    }\n",
       "\n",
       "    .dataframe tbody tr th {\n",
       "        vertical-align: top;\n",
       "    }\n",
       "\n",
       "    .dataframe thead th {\n",
       "        text-align: right;\n",
       "    }\n",
       "</style>\n",
       "<table border=\"1\" class=\"dataframe\">\n",
       "  <thead>\n",
       "    <tr style=\"text-align: right;\">\n",
       "      <th></th>\n",
       "      <th>genres</th>\n",
       "      <th>title</th>\n",
       "      <th>release_date</th>\n",
       "      <th>price</th>\n",
       "      <th>item_id</th>\n",
       "      <th>developer</th>\n",
       "    </tr>\n",
       "  </thead>\n",
       "  <tbody>\n",
       "    <tr>\n",
       "      <th>0</th>\n",
       "      <td>Action</td>\n",
       "      <td>Orbitality</td>\n",
       "      <td>2017</td>\n",
       "      <td>9.99</td>\n",
       "      <td>753100.0</td>\n",
       "      <td>Wonderbox Games</td>\n",
       "    </tr>\n",
       "    <tr>\n",
       "      <th>1</th>\n",
       "      <td>Indie</td>\n",
       "      <td>Castle In The Darkness</td>\n",
       "      <td>2015</td>\n",
       "      <td>9.99</td>\n",
       "      <td>262960.0</td>\n",
       "      <td>Matt Kap,Nicalis, Inc.</td>\n",
       "    </tr>\n",
       "  </tbody>\n",
       "</table>\n",
       "</div>"
      ],
      "text/plain": [
       "   genres                   title release_date  price   item_id  \\\n",
       "0  Action              Orbitality         2017   9.99  753100.0   \n",
       "1   Indie  Castle In The Darkness         2015   9.99  262960.0   \n",
       "\n",
       "                developer  \n",
       "0         Wonderbox Games  \n",
       "1  Matt Kap,Nicalis, Inc.  "
      ]
     },
     "execution_count": 4,
     "metadata": {},
     "output_type": "execute_result"
    }
   ],
   "source": [
    "df_games.head(2)"
   ]
  },
  {
   "cell_type": "code",
   "execution_count": 5,
   "metadata": {},
   "outputs": [
    {
     "data": {
      "text/html": [
       "<div>\n",
       "<style scoped>\n",
       "    .dataframe tbody tr th:only-of-type {\n",
       "        vertical-align: middle;\n",
       "    }\n",
       "\n",
       "    .dataframe tbody tr th {\n",
       "        vertical-align: top;\n",
       "    }\n",
       "\n",
       "    .dataframe thead th {\n",
       "        text-align: right;\n",
       "    }\n",
       "</style>\n",
       "<table border=\"1\" class=\"dataframe\">\n",
       "  <thead>\n",
       "    <tr style=\"text-align: right;\">\n",
       "      <th></th>\n",
       "      <th>user_id</th>\n",
       "      <th>item_id</th>\n",
       "      <th>reviews_helpful</th>\n",
       "      <th>reviews_recommend</th>\n",
       "      <th>reviews_date</th>\n",
       "      <th>sentiment_analysis</th>\n",
       "    </tr>\n",
       "  </thead>\n",
       "  <tbody>\n",
       "    <tr>\n",
       "      <th>0</th>\n",
       "      <td>76561197970982479</td>\n",
       "      <td>1250</td>\n",
       "      <td>No ratings yet</td>\n",
       "      <td>True</td>\n",
       "      <td>2011-11-05</td>\n",
       "      <td>2</td>\n",
       "    </tr>\n",
       "    <tr>\n",
       "      <th>1</th>\n",
       "      <td>js41637</td>\n",
       "      <td>251610</td>\n",
       "      <td>15 of 20 people (75%) found this review helpful</td>\n",
       "      <td>True</td>\n",
       "      <td>2014-06-24</td>\n",
       "      <td>2</td>\n",
       "    </tr>\n",
       "  </tbody>\n",
       "</table>\n",
       "</div>"
      ],
      "text/plain": [
       "             user_id item_id                                  reviews_helpful  \\\n",
       "0  76561197970982479    1250                                   No ratings yet   \n",
       "1            js41637  251610  15 of 20 people (75%) found this review helpful   \n",
       "\n",
       "   reviews_recommend reviews_date  sentiment_analysis  \n",
       "0               True   2011-11-05                   2  \n",
       "1               True   2014-06-24                   2  "
      ]
     },
     "execution_count": 5,
     "metadata": {},
     "output_type": "execute_result"
    }
   ],
   "source": [
    "df_reviews.head(2)"
   ]
  },
  {
   "cell_type": "code",
   "execution_count": 6,
   "metadata": {},
   "outputs": [],
   "source": [
    "#De df_games se tomara la columna title y se usa item_id para el merge\n",
    "df_games_name =df_games[['title','item_id']]\n",
    "\n",
    "#tomo las columnas necesarias de df_reviews\n",
    "df_need_reviews = df_reviews[['sentiment_analysis','item_id']]"
   ]
  },
  {
   "cell_type": "code",
   "execution_count": 7,
   "metadata": {},
   "outputs": [
    {
     "name": "stdout",
     "output_type": "stream",
     "text": [
      "float64\n",
      "object\n"
     ]
    }
   ],
   "source": [
    "#averiguo el tipo de columna que necesito que tengan en comun mis dataframe para poder hacer un merge\n",
    "type_item_id = df_games_name['item_id'].dtype\n",
    "print(type_item_id)\n",
    "\n",
    "type_item_id = df_need_reviews['item_id'].dtype\n",
    "print(type_item_id)\n",
    "\n"
   ]
  },
  {
   "cell_type": "code",
   "execution_count": 8,
   "metadata": {},
   "outputs": [
    {
     "name": "stderr",
     "output_type": "stream",
     "text": [
      "C:\\Users\\Nathaly\\AppData\\Local\\Temp\\ipykernel_9768\\541754622.py:2: SettingWithCopyWarning: \n",
      "A value is trying to be set on a copy of a slice from a DataFrame.\n",
      "Try using .loc[row_indexer,col_indexer] = value instead\n",
      "\n",
      "See the caveats in the documentation: https://pandas.pydata.org/pandas-docs/stable/user_guide/indexing.html#returning-a-view-versus-a-copy\n",
      "  df_need_reviews['item_id'] = df_need_reviews['item_id'].astype(float)\n"
     ]
    }
   ],
   "source": [
    "# Convertir la columna 'columna_object' a tipo float\n",
    "df_need_reviews['item_id'] = df_need_reviews['item_id'].astype(float)"
   ]
  },
  {
   "cell_type": "code",
   "execution_count": 9,
   "metadata": {},
   "outputs": [
    {
     "data": {
      "text/html": [
       "<div>\n",
       "<style scoped>\n",
       "    .dataframe tbody tr th:only-of-type {\n",
       "        vertical-align: middle;\n",
       "    }\n",
       "\n",
       "    .dataframe tbody tr th {\n",
       "        vertical-align: top;\n",
       "    }\n",
       "\n",
       "    .dataframe thead th {\n",
       "        text-align: right;\n",
       "    }\n",
       "</style>\n",
       "<table border=\"1\" class=\"dataframe\">\n",
       "  <thead>\n",
       "    <tr style=\"text-align: right;\">\n",
       "      <th></th>\n",
       "      <th>sentiment_analysis</th>\n",
       "      <th>item_id</th>\n",
       "      <th>title</th>\n",
       "    </tr>\n",
       "  </thead>\n",
       "  <tbody>\n",
       "    <tr>\n",
       "      <th>0</th>\n",
       "      <td>2</td>\n",
       "      <td>1250.0</td>\n",
       "      <td>Killing Floor</td>\n",
       "    </tr>\n",
       "    <tr>\n",
       "      <th>1</th>\n",
       "      <td>1</td>\n",
       "      <td>211420.0</td>\n",
       "      <td>DARK SOULS™: Prepare To Die™ Edition</td>\n",
       "    </tr>\n",
       "    <tr>\n",
       "      <th>2</th>\n",
       "      <td>1</td>\n",
       "      <td>211420.0</td>\n",
       "      <td>DARK SOULS™: Prepare To Die™ Edition</td>\n",
       "    </tr>\n",
       "    <tr>\n",
       "      <th>3</th>\n",
       "      <td>0</td>\n",
       "      <td>249130.0</td>\n",
       "      <td>LEGO® Marvel™ Super Heroes</td>\n",
       "    </tr>\n",
       "    <tr>\n",
       "      <th>4</th>\n",
       "      <td>0</td>\n",
       "      <td>249130.0</td>\n",
       "      <td>LEGO® Marvel™ Super Heroes</td>\n",
       "    </tr>\n",
       "    <tr>\n",
       "      <th>...</th>\n",
       "      <td>...</td>\n",
       "      <td>...</td>\n",
       "      <td>...</td>\n",
       "    </tr>\n",
       "    <tr>\n",
       "      <th>77042</th>\n",
       "      <td>2</td>\n",
       "      <td>265630.0</td>\n",
       "      <td>Fistful of Frags</td>\n",
       "    </tr>\n",
       "    <tr>\n",
       "      <th>77043</th>\n",
       "      <td>2</td>\n",
       "      <td>304050.0</td>\n",
       "      <td>Trove</td>\n",
       "    </tr>\n",
       "    <tr>\n",
       "      <th>77044</th>\n",
       "      <td>2</td>\n",
       "      <td>304050.0</td>\n",
       "      <td>Trove</td>\n",
       "    </tr>\n",
       "    <tr>\n",
       "      <th>77045</th>\n",
       "      <td>2</td>\n",
       "      <td>304050.0</td>\n",
       "      <td>Trove</td>\n",
       "    </tr>\n",
       "    <tr>\n",
       "      <th>77046</th>\n",
       "      <td>2</td>\n",
       "      <td>304050.0</td>\n",
       "      <td>Trove</td>\n",
       "    </tr>\n",
       "  </tbody>\n",
       "</table>\n",
       "<p>77047 rows × 3 columns</p>\n",
       "</div>"
      ],
      "text/plain": [
       "       sentiment_analysis   item_id                                 title\n",
       "0                       2    1250.0                         Killing Floor\n",
       "1                       1  211420.0  DARK SOULS™: Prepare To Die™ Edition\n",
       "2                       1  211420.0  DARK SOULS™: Prepare To Die™ Edition\n",
       "3                       0  249130.0            LEGO® Marvel™ Super Heroes\n",
       "4                       0  249130.0            LEGO® Marvel™ Super Heroes\n",
       "...                   ...       ...                                   ...\n",
       "77042                   2  265630.0                      Fistful of Frags\n",
       "77043                   2  304050.0                                 Trove\n",
       "77044                   2  304050.0                                 Trove\n",
       "77045                   2  304050.0                                 Trove\n",
       "77046                   2  304050.0                                 Trove\n",
       "\n",
       "[77047 rows x 3 columns]"
      ]
     },
     "execution_count": 9,
     "metadata": {},
     "output_type": "execute_result"
    }
   ],
   "source": [
    "#hago un merge para quedar con un solo dataframe\n",
    "df_modelo = pd.merge(df_need_reviews,df_games_name, on='item_id',how='inner')\n",
    "\n",
    "df_modelo"
   ]
  },
  {
   "cell_type": "code",
   "execution_count": 10,
   "metadata": {},
   "outputs": [
    {
     "name": "stdout",
     "output_type": "stream",
     "text": [
      "<class 'pandas.core.frame.DataFrame'>\n",
      "RangeIndex: 77047 entries, 0 to 77046\n",
      "Data columns (total 3 columns):\n",
      " #   Column              Non-Null Count  Dtype  \n",
      "---  ------              --------------  -----  \n",
      " 0   sentiment_analysis  77047 non-null  int64  \n",
      " 1   item_id             77047 non-null  float64\n",
      " 2   title               77047 non-null  object \n",
      "dtypes: float64(1), int64(1), object(1)\n",
      "memory usage: 1.8+ MB\n"
     ]
    }
   ],
   "source": [
    "df_modelo.info()"
   ]
  },
  {
   "cell_type": "code",
   "execution_count": 11,
   "metadata": {},
   "outputs": [
    {
     "name": "stdout",
     "output_type": "stream",
     "text": [
      "El DataFrame tiene filas duplicadas.\n"
     ]
    }
   ],
   "source": [
    "# Verificar duplicados en todo el DataFrame\n",
    "hay_duplicados = df_modelo.duplicated().any()\n",
    "\n",
    "if hay_duplicados:\n",
    "    print(\"El DataFrame tiene filas duplicadas.\")\n",
    "else:\n",
    "    print(\"El DataFrame no tiene filas duplicadas.\")"
   ]
  },
  {
   "cell_type": "code",
   "execution_count": 12,
   "metadata": {},
   "outputs": [],
   "source": [
    "#eliminacion de duplicados\n",
    "df_modelo.drop_duplicates(subset=['item_id', 'title'],inplace=True)"
   ]
  },
  {
   "cell_type": "code",
   "execution_count": 13,
   "metadata": {},
   "outputs": [],
   "source": [
    "def procesar_sentimiento(valor):\n",
    "    if valor == 1:\n",
    "        return 1\n",
    "    \n",
    "    if valor == 2:\n",
    "        return 2\n",
    "    else:\n",
    "        return None\n",
    "\n",
    "# Crear la nueva columna 'rating' aplicando la función a la columna 'analisis_sentimiento'\n",
    "df_modelo['rating'] = df_modelo['sentiment_analysis'].apply(procesar_sentimiento)"
   ]
  },
  {
   "cell_type": "code",
   "execution_count": 14,
   "metadata": {},
   "outputs": [
    {
     "data": {
      "text/html": [
       "<div>\n",
       "<style scoped>\n",
       "    .dataframe tbody tr th:only-of-type {\n",
       "        vertical-align: middle;\n",
       "    }\n",
       "\n",
       "    .dataframe tbody tr th {\n",
       "        vertical-align: top;\n",
       "    }\n",
       "\n",
       "    .dataframe thead th {\n",
       "        text-align: right;\n",
       "    }\n",
       "</style>\n",
       "<table border=\"1\" class=\"dataframe\">\n",
       "  <thead>\n",
       "    <tr style=\"text-align: right;\">\n",
       "      <th></th>\n",
       "      <th>sentiment_analysis</th>\n",
       "      <th>item_id</th>\n",
       "      <th>title</th>\n",
       "      <th>rating</th>\n",
       "    </tr>\n",
       "  </thead>\n",
       "  <tbody>\n",
       "    <tr>\n",
       "      <th>0</th>\n",
       "      <td>2</td>\n",
       "      <td>1250.0</td>\n",
       "      <td>Killing Floor</td>\n",
       "      <td>2.0</td>\n",
       "    </tr>\n",
       "    <tr>\n",
       "      <th>1</th>\n",
       "      <td>1</td>\n",
       "      <td>211420.0</td>\n",
       "      <td>DARK SOULS™: Prepare To Die™ Edition</td>\n",
       "      <td>1.0</td>\n",
       "    </tr>\n",
       "  </tbody>\n",
       "</table>\n",
       "</div>"
      ],
      "text/plain": [
       "   sentiment_analysis   item_id                                 title  rating\n",
       "0                   2    1250.0                         Killing Floor     2.0\n",
       "1                   1  211420.0  DARK SOULS™: Prepare To Die™ Edition     1.0"
      ]
     },
     "execution_count": 14,
     "metadata": {},
     "output_type": "execute_result"
    }
   ],
   "source": [
    "df_modelo.head(2)"
   ]
  },
  {
   "cell_type": "code",
   "execution_count": 15,
   "metadata": {},
   "outputs": [
    {
     "name": "stdout",
     "output_type": "stream",
     "text": [
      "El DataFrame contiene elementos 'NaN'.\n"
     ]
    }
   ],
   "source": [
    "# Verificar si hay elementos 'NaN' en el DataFrame\n",
    "if df_modelo.isna().any().any():\n",
    "    print(\"El DataFrame contiene elementos 'NaN'.\")\n",
    "else:\n",
    "    print(\"El DataFrame no contiene elementos 'NaN'.\")"
   ]
  },
  {
   "cell_type": "code",
   "execution_count": 16,
   "metadata": {},
   "outputs": [],
   "source": [
    "#Eliminar los NaN para no tener conflitos\n",
    "df_modelo.dropna(inplace=True)"
   ]
  },
  {
   "cell_type": "code",
   "execution_count": 17,
   "metadata": {},
   "outputs": [
    {
     "data": {
      "text/html": [
       "<div>\n",
       "<style scoped>\n",
       "    .dataframe tbody tr th:only-of-type {\n",
       "        vertical-align: middle;\n",
       "    }\n",
       "\n",
       "    .dataframe tbody tr th {\n",
       "        vertical-align: top;\n",
       "    }\n",
       "\n",
       "    .dataframe thead th {\n",
       "        text-align: right;\n",
       "    }\n",
       "</style>\n",
       "<table border=\"1\" class=\"dataframe\">\n",
       "  <thead>\n",
       "    <tr style=\"text-align: right;\">\n",
       "      <th></th>\n",
       "      <th>sentiment_analysis</th>\n",
       "      <th>item_id</th>\n",
       "      <th>title</th>\n",
       "      <th>rating</th>\n",
       "    </tr>\n",
       "  </thead>\n",
       "  <tbody>\n",
       "    <tr>\n",
       "      <th>0</th>\n",
       "      <td>2</td>\n",
       "      <td>1250.0</td>\n",
       "      <td>Killing Floor</td>\n",
       "      <td>2.0</td>\n",
       "    </tr>\n",
       "    <tr>\n",
       "      <th>1</th>\n",
       "      <td>1</td>\n",
       "      <td>211420.0</td>\n",
       "      <td>DARK SOULS™: Prepare To Die™ Edition</td>\n",
       "      <td>1.0</td>\n",
       "    </tr>\n",
       "    <tr>\n",
       "      <th>5</th>\n",
       "      <td>1</td>\n",
       "      <td>4000.0</td>\n",
       "      <td>Garry's Mod</td>\n",
       "      <td>1.0</td>\n",
       "    </tr>\n",
       "    <tr>\n",
       "      <th>6</th>\n",
       "      <td>1</td>\n",
       "      <td>42910.0</td>\n",
       "      <td>Magicka</td>\n",
       "      <td>1.0</td>\n",
       "    </tr>\n",
       "    <tr>\n",
       "      <th>8</th>\n",
       "      <td>2</td>\n",
       "      <td>232090.0</td>\n",
       "      <td>Killing Floor 2</td>\n",
       "      <td>2.0</td>\n",
       "    </tr>\n",
       "    <tr>\n",
       "      <th>...</th>\n",
       "      <td>...</td>\n",
       "      <td>...</td>\n",
       "      <td>...</td>\n",
       "      <td>...</td>\n",
       "    </tr>\n",
       "    <tr>\n",
       "      <th>76639</th>\n",
       "      <td>2</td>\n",
       "      <td>305960.0</td>\n",
       "      <td>Dragon: The Game</td>\n",
       "      <td>2.0</td>\n",
       "    </tr>\n",
       "    <tr>\n",
       "      <th>76647</th>\n",
       "      <td>2</td>\n",
       "      <td>203650.0</td>\n",
       "      <td>Sonic the Hedgehog 4 - Episode II</td>\n",
       "      <td>2.0</td>\n",
       "    </tr>\n",
       "    <tr>\n",
       "      <th>76729</th>\n",
       "      <td>1</td>\n",
       "      <td>22610.0</td>\n",
       "      <td>Alien Breed: Impact</td>\n",
       "      <td>1.0</td>\n",
       "    </tr>\n",
       "    <tr>\n",
       "      <th>76927</th>\n",
       "      <td>2</td>\n",
       "      <td>16600.0</td>\n",
       "      <td>Trials 2: Second Edition</td>\n",
       "      <td>2.0</td>\n",
       "    </tr>\n",
       "    <tr>\n",
       "      <th>76941</th>\n",
       "      <td>2</td>\n",
       "      <td>351890.0</td>\n",
       "      <td>PAYDAY 2: The Butcher's AK/CAR Mod Pack</td>\n",
       "      <td>2.0</td>\n",
       "    </tr>\n",
       "  </tbody>\n",
       "</table>\n",
       "<p>1647 rows × 4 columns</p>\n",
       "</div>"
      ],
      "text/plain": [
       "       sentiment_analysis   item_id                                    title  \\\n",
       "0                       2    1250.0                            Killing Floor   \n",
       "1                       1  211420.0     DARK SOULS™: Prepare To Die™ Edition   \n",
       "5                       1    4000.0                              Garry's Mod   \n",
       "6                       1   42910.0                                  Magicka   \n",
       "8                       2  232090.0                          Killing Floor 2   \n",
       "...                   ...       ...                                      ...   \n",
       "76639                   2  305960.0                         Dragon: The Game   \n",
       "76647                   2  203650.0        Sonic the Hedgehog 4 - Episode II   \n",
       "76729                   1   22610.0                      Alien Breed: Impact   \n",
       "76927                   2   16600.0                 Trials 2: Second Edition   \n",
       "76941                   2  351890.0  PAYDAY 2: The Butcher's AK/CAR Mod Pack   \n",
       "\n",
       "       rating  \n",
       "0         2.0  \n",
       "1         1.0  \n",
       "5         1.0  \n",
       "6         1.0  \n",
       "8         2.0  \n",
       "...       ...  \n",
       "76639     2.0  \n",
       "76647     2.0  \n",
       "76729     1.0  \n",
       "76927     2.0  \n",
       "76941     2.0  \n",
       "\n",
       "[1647 rows x 4 columns]"
      ]
     },
     "execution_count": 17,
     "metadata": {},
     "output_type": "execute_result"
    }
   ],
   "source": [
    "df_modelo"
   ]
  },
  {
   "cell_type": "code",
   "execution_count": 18,
   "metadata": {},
   "outputs": [],
   "source": [
    "#Elimino a \tsentiment_analysis\n",
    "df_modelo.drop(columns=['sentiment_analysis'], inplace=True)"
   ]
  },
  {
   "cell_type": "code",
   "execution_count": 56,
   "metadata": {},
   "outputs": [],
   "source": [
    "float_columns = df_modelo.select_dtypes(include=['float64']).columns\n",
    "df_modelo[float_columns] = df_modelo[float_columns].astype(int)"
   ]
  },
  {
   "cell_type": "code",
   "execution_count": 57,
   "metadata": {},
   "outputs": [
    {
     "name": "stdout",
     "output_type": "stream",
     "text": [
      "<class 'pandas.core.frame.DataFrame'>\n",
      "Index: 1647 entries, 0 to 76941\n",
      "Data columns (total 3 columns):\n",
      " #   Column   Non-Null Count  Dtype \n",
      "---  ------   --------------  ----- \n",
      " 0   item_id  1647 non-null   int32 \n",
      " 1   title    1647 non-null   object\n",
      " 2   rating   1647 non-null   int32 \n",
      "dtypes: int32(2), object(1)\n",
      "memory usage: 38.6+ KB\n"
     ]
    }
   ],
   "source": [
    "df_modelo.info()"
   ]
  },
  {
   "cell_type": "code",
   "execution_count": 58,
   "metadata": {},
   "outputs": [],
   "source": [
    "# Se finaliza guardando el dataframe recomendación en formato comprimido en parquet\n",
    "df_modelo.to_parquet('df_recomendacion', engine='pyarrow')"
   ]
  }
 ],
 "metadata": {
  "kernelspec": {
   "display_name": "Python 3",
   "language": "python",
   "name": "python3"
  },
  "language_info": {
   "codemirror_mode": {
    "name": "ipython",
    "version": 3
   },
   "file_extension": ".py",
   "mimetype": "text/x-python",
   "name": "python",
   "nbconvert_exporter": "python",
   "pygments_lexer": "ipython3",
   "version": "3.12.2"
  }
 },
 "nbformat": 4,
 "nbformat_minor": 2
}
