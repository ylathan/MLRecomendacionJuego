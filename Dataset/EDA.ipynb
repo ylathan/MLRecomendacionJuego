{
 "cells": [
  {
   "cell_type": "markdown",
   "metadata": {},
   "source": [
    "## EDA"
   ]
  },
  {
   "cell_type": "code",
   "execution_count": 1,
   "metadata": {},
   "outputs": [],
   "source": [
    "import pandas as pd\n",
    "import matplotlib.pyplot as plt\n",
    "import warnings\n",
    "warnings.filterwarnings(\"ignore\")"
   ]
  },
  {
   "cell_type": "markdown",
   "metadata": {},
   "source": [
    "Se cargan los tres Datasets para inicial el análisis\n",
    "\n"
   ]
  },
  {
   "cell_type": "code",
   "execution_count": 2,
   "metadata": {},
   "outputs": [],
   "source": [
    "games = pd.read_parquet('../ETL/ETL_games_clean')\n",
    "reviews = pd.read_parquet('../ETL/ETL_user_reviews_clean')\n",
    "items = pd.read_parquet('../ETL/ETL_items_clean')"
   ]
  },
  {
   "cell_type": "markdown",
   "metadata": {},
   "source": [
    "## Juegos y generos mas judados por los usuarios"
   ]
  },
  {
   "cell_type": "code",
   "execution_count": 4,
   "metadata": {},
   "outputs": [
    {
     "data": {
      "text/plain": [
       "Index(['user_id', 'item_id', 'reviews_helpful', 'reviews_recommend',\n",
       "       'reviews_date', 'sentiment_analysis'],\n",
       "      dtype='object')"
      ]
     },
     "execution_count": 4,
     "metadata": {},
     "output_type": "execute_result"
    }
   ],
   "source": [
    "reviews.columns"
   ]
  },
  {
   "cell_type": "code",
   "execution_count": 5,
   "metadata": {},
   "outputs": [
    {
     "data": {
      "text/html": [
       "<div>\n",
       "<style scoped>\n",
       "    .dataframe tbody tr th:only-of-type {\n",
       "        vertical-align: middle;\n",
       "    }\n",
       "\n",
       "    .dataframe tbody tr th {\n",
       "        vertical-align: top;\n",
       "    }\n",
       "\n",
       "    .dataframe thead th {\n",
       "        text-align: right;\n",
       "    }\n",
       "</style>\n",
       "<table border=\"1\" class=\"dataframe\">\n",
       "  <thead>\n",
       "    <tr style=\"text-align: right;\">\n",
       "      <th></th>\n",
       "      <th>user_id</th>\n",
       "      <th>item_id</th>\n",
       "      <th>reviews_helpful</th>\n",
       "      <th>reviews_recommend</th>\n",
       "      <th>reviews_date</th>\n",
       "      <th>sentiment_analysis</th>\n",
       "    </tr>\n",
       "  </thead>\n",
       "  <tbody>\n",
       "    <tr>\n",
       "      <th>0</th>\n",
       "      <td>76561197970982479</td>\n",
       "      <td>1250</td>\n",
       "      <td>No ratings yet</td>\n",
       "      <td>True</td>\n",
       "      <td>2011-11-05</td>\n",
       "      <td>2</td>\n",
       "    </tr>\n",
       "    <tr>\n",
       "      <th>1</th>\n",
       "      <td>js41637</td>\n",
       "      <td>251610</td>\n",
       "      <td>15 of 20 people (75%) found this review helpful</td>\n",
       "      <td>True</td>\n",
       "      <td>2014-06-24</td>\n",
       "      <td>2</td>\n",
       "    </tr>\n",
       "    <tr>\n",
       "      <th>2</th>\n",
       "      <td>doctr</td>\n",
       "      <td>250320</td>\n",
       "      <td>2 of 2 people (100%) found this review helpful</td>\n",
       "      <td>True</td>\n",
       "      <td>2013-10-14</td>\n",
       "      <td>2</td>\n",
       "    </tr>\n",
       "    <tr>\n",
       "      <th>3</th>\n",
       "      <td>maplemage</td>\n",
       "      <td>211420</td>\n",
       "      <td>35 of 43 people (81%) found this review helpful</td>\n",
       "      <td>True</td>\n",
       "      <td>2014-04-15</td>\n",
       "      <td>1</td>\n",
       "    </tr>\n",
       "    <tr>\n",
       "      <th>4</th>\n",
       "      <td>Wackky</td>\n",
       "      <td>249130</td>\n",
       "      <td>7 of 8 people (88%) found this review helpful</td>\n",
       "      <td>True</td>\n",
       "      <td>2014-05-05</td>\n",
       "      <td>0</td>\n",
       "    </tr>\n",
       "    <tr>\n",
       "      <th>...</th>\n",
       "      <td>...</td>\n",
       "      <td>...</td>\n",
       "      <td>...</td>\n",
       "      <td>...</td>\n",
       "      <td>...</td>\n",
       "      <td>...</td>\n",
       "    </tr>\n",
       "    <tr>\n",
       "      <th>48904</th>\n",
       "      <td>76561198138691719</td>\n",
       "      <td>332310</td>\n",
       "      <td>No ratings yet</td>\n",
       "      <td>True</td>\n",
       "      <td>2015-12-30</td>\n",
       "      <td>0</td>\n",
       "    </tr>\n",
       "    <tr>\n",
       "      <th>48905</th>\n",
       "      <td>SKELETRONPRIMEISOP</td>\n",
       "      <td>440</td>\n",
       "      <td>No ratings yet</td>\n",
       "      <td>True</td>\n",
       "      <td>2014-08-15</td>\n",
       "      <td>2</td>\n",
       "    </tr>\n",
       "    <tr>\n",
       "      <th>48906</th>\n",
       "      <td>76561198141079508</td>\n",
       "      <td>304930</td>\n",
       "      <td>No ratings yet</td>\n",
       "      <td>True</td>\n",
       "      <td>2014-08-02</td>\n",
       "      <td>0</td>\n",
       "    </tr>\n",
       "    <tr>\n",
       "      <th>48907</th>\n",
       "      <td>ShadowYT100</td>\n",
       "      <td>265630</td>\n",
       "      <td>No ratings yet</td>\n",
       "      <td>True</td>\n",
       "      <td>2015-07-31</td>\n",
       "      <td>2</td>\n",
       "    </tr>\n",
       "    <tr>\n",
       "      <th>48908</th>\n",
       "      <td>bestcustomurlevermade</td>\n",
       "      <td>304050</td>\n",
       "      <td>No ratings yet</td>\n",
       "      <td>True</td>\n",
       "      <td>2015-12-20</td>\n",
       "      <td>2</td>\n",
       "    </tr>\n",
       "  </tbody>\n",
       "</table>\n",
       "<p>48909 rows × 6 columns</p>\n",
       "</div>"
      ],
      "text/plain": [
       "                     user_id item_id  \\\n",
       "0          76561197970982479    1250   \n",
       "1                    js41637  251610   \n",
       "2                      doctr  250320   \n",
       "3                  maplemage  211420   \n",
       "4                     Wackky  249130   \n",
       "...                      ...     ...   \n",
       "48904      76561198138691719  332310   \n",
       "48905     SKELETRONPRIMEISOP     440   \n",
       "48906      76561198141079508  304930   \n",
       "48907            ShadowYT100  265630   \n",
       "48908  bestcustomurlevermade  304050   \n",
       "\n",
       "                                       reviews_helpful  reviews_recommend  \\\n",
       "0                                       No ratings yet               True   \n",
       "1      15 of 20 people (75%) found this review helpful               True   \n",
       "2       2 of 2 people (100%) found this review helpful               True   \n",
       "3      35 of 43 people (81%) found this review helpful               True   \n",
       "4        7 of 8 people (88%) found this review helpful               True   \n",
       "...                                                ...                ...   \n",
       "48904                                   No ratings yet               True   \n",
       "48905                                   No ratings yet               True   \n",
       "48906                                   No ratings yet               True   \n",
       "48907                                   No ratings yet               True   \n",
       "48908                                   No ratings yet               True   \n",
       "\n",
       "      reviews_date  sentiment_analysis  \n",
       "0       2011-11-05                   2  \n",
       "1       2014-06-24                   2  \n",
       "2       2013-10-14                   2  \n",
       "3       2014-04-15                   1  \n",
       "4       2014-05-05                   0  \n",
       "...            ...                 ...  \n",
       "48904   2015-12-30                   0  \n",
       "48905   2014-08-15                   2  \n",
       "48906   2014-08-02                   0  \n",
       "48907   2015-07-31                   2  \n",
       "48908   2015-12-20                   2  \n",
       "\n",
       "[48909 rows x 6 columns]"
      ]
     },
     "execution_count": 5,
     "metadata": {},
     "output_type": "execute_result"
    }
   ],
   "source": [
    "reviews"
   ]
  },
  {
   "cell_type": "code",
   "execution_count": 6,
   "metadata": {},
   "outputs": [
    {
     "data": {
      "text/plain": [
       "Index(['item_id', 'playtime_forever', 'playtime_2weeks', 'user_id',\n",
       "       'items_count', 'steam_id'],\n",
       "      dtype='object')"
      ]
     },
     "execution_count": 6,
     "metadata": {},
     "output_type": "execute_result"
    }
   ],
   "source": [
    "items.columns"
   ]
  },
  {
   "cell_type": "markdown",
   "metadata": {},
   "source": [
    "## EDA de el dataframe games"
   ]
  },
  {
   "cell_type": "code",
   "execution_count": 3,
   "metadata": {},
   "outputs": [
    {
     "data": {
      "text/html": [
       "<div>\n",
       "<style scoped>\n",
       "    .dataframe tbody tr th:only-of-type {\n",
       "        vertical-align: middle;\n",
       "    }\n",
       "\n",
       "    .dataframe tbody tr th {\n",
       "        vertical-align: top;\n",
       "    }\n",
       "\n",
       "    .dataframe thead th {\n",
       "        text-align: right;\n",
       "    }\n",
       "</style>\n",
       "<table border=\"1\" class=\"dataframe\">\n",
       "  <thead>\n",
       "    <tr style=\"text-align: right;\">\n",
       "      <th></th>\n",
       "      <th>genres</th>\n",
       "      <th>title</th>\n",
       "      <th>release_date</th>\n",
       "      <th>price</th>\n",
       "      <th>item_id</th>\n",
       "      <th>developer</th>\n",
       "    </tr>\n",
       "  </thead>\n",
       "  <tbody>\n",
       "    <tr>\n",
       "      <th>0</th>\n",
       "      <td>Action</td>\n",
       "      <td>Orbitality</td>\n",
       "      <td>2017</td>\n",
       "      <td>9.99</td>\n",
       "      <td>753100.0</td>\n",
       "      <td>Wonderbox Games</td>\n",
       "    </tr>\n",
       "    <tr>\n",
       "      <th>1</th>\n",
       "      <td>Indie</td>\n",
       "      <td>Castle In The Darkness</td>\n",
       "      <td>2015</td>\n",
       "      <td>9.99</td>\n",
       "      <td>262960.0</td>\n",
       "      <td>Matt Kap,Nicalis, Inc.</td>\n",
       "    </tr>\n",
       "    <tr>\n",
       "      <th>2</th>\n",
       "      <td>Simulation</td>\n",
       "      <td>Galactic Civilizations III - Mech Parts Kit DLC</td>\n",
       "      <td>2017</td>\n",
       "      <td>2.99</td>\n",
       "      <td>513520.0</td>\n",
       "      <td>Stardock Entertainment</td>\n",
       "    </tr>\n",
       "    <tr>\n",
       "      <th>3</th>\n",
       "      <td>Simulation</td>\n",
       "      <td>Project CARS - Classic Lotus Track Expansion</td>\n",
       "      <td>2015</td>\n",
       "      <td>7.49</td>\n",
       "      <td>334782.0</td>\n",
       "      <td>Slightly Mad Studios</td>\n",
       "    </tr>\n",
       "    <tr>\n",
       "      <th>4</th>\n",
       "      <td>Early Access</td>\n",
       "      <td>The Crowded Party Game Collection</td>\n",
       "      <td>2017</td>\n",
       "      <td>7.99</td>\n",
       "      <td>618640.0</td>\n",
       "      <td>crowgames UG (haftungsbeschränkt)</td>\n",
       "    </tr>\n",
       "  </tbody>\n",
       "</table>\n",
       "</div>"
      ],
      "text/plain": [
       "         genres                                            title release_date  \\\n",
       "0        Action                                       Orbitality         2017   \n",
       "1         Indie                           Castle In The Darkness         2015   \n",
       "2    Simulation  Galactic Civilizations III - Mech Parts Kit DLC         2017   \n",
       "3    Simulation     Project CARS - Classic Lotus Track Expansion         2015   \n",
       "4  Early Access                The Crowded Party Game Collection         2017   \n",
       "\n",
       "   price   item_id                          developer  \n",
       "0   9.99  753100.0                    Wonderbox Games  \n",
       "1   9.99  262960.0             Matt Kap,Nicalis, Inc.  \n",
       "2   2.99  513520.0             Stardock Entertainment  \n",
       "3   7.49  334782.0               Slightly Mad Studios  \n",
       "4   7.99  618640.0  crowgames UG (haftungsbeschränkt)  "
      ]
     },
     "execution_count": 3,
     "metadata": {},
     "output_type": "execute_result"
    }
   ],
   "source": [
    "games.head()"
   ]
  },
  {
   "cell_type": "code",
   "execution_count": null,
   "metadata": {},
   "outputs": [],
   "source": [
    "import numpy as np\n",
    "import seaborn as sns\n",
    "from sklearn.preprocessing import"
   ]
  },
  {
   "cell_type": "markdown",
   "metadata": {},
   "source": [
    "Realizamos un top5 de los juegos mas jugados segun acumulación de las horas y los géneros"
   ]
  },
  {
   "cell_type": "code",
   "execution_count": 8,
   "metadata": {},
   "outputs": [],
   "source": [
    "#top 5 de los juegos mas jugados por horas\n",
    "#tomo las columnas que necesito\n",
    "title = games['title']\n",
    "tiempo = items['playtime_forever']\n",
    "\n",
    "# Concatena las dos series en un nuevo DataFrame\n",
    "df_juego = pd.concat([title, tiempo], axis=1)\n",
    "\n",
    "#se sacan las horas\n",
    "top5= df_juego[['title','playtime_forever']].groupby('title').sum()\n",
    "\n",
    "#Se saca el top5\n",
    "juego_mas_jugado = top5['playtime_forever'].sort_values(ascending=False).head(5)\n"
   ]
  },
  {
   "cell_type": "code",
   "execution_count": 9,
   "metadata": {},
   "outputs": [
    {
     "data": {
      "image/png": "[encoded data removed]",
      "text/plain": [
       "<Figure size 640x480 with 1 Axes>"
      ]
     },
     "metadata": {},
     "output_type": "display_data"
    }
   ],
   "source": [
    "#Graficamos\n",
    "juego_mas_jugado.plot(kind='barh')\n",
    "plt.title('Top 5 juegos mas jugados')\n",
    "plt.xlabel('Cantidad de horas')\n",
    "plt.ylabel('juegos')\n",
    "plt.xticks(rotation=0)\n",
    "plt.show()"
   ]
  },
  {
   "cell_type": "code",
   "execution_count": 10,
   "metadata": {},
   "outputs": [],
   "source": [
    "#top5 de los generos mas jugados\n",
    "#tomo las columnas que necesito\n",
    "genero = games['genres']\n",
    "tiempo = items['playtime_forever']\n",
    "\n",
    "# Concatena las dos series en un nuevo DataFrame\n",
    "df_genero = pd.concat([genero, tiempo], axis=1)\n",
    "\n",
    "#se sacan las horas\n",
    "top5= df_genero[['genres','playtime_forever']].groupby('genres').sum()\n",
    "\n",
    "#Se saca el top5\n",
    "genero_mas_jugado = top5['playtime_forever'].sort_values(ascending=False).head(5)\n"
   ]
  },
  {
   "cell_type": "code",
   "execution_count": 11,
   "metadata": {},
   "outputs": [
    {
     "data": {
      "image/png": "[encoded data removed]",
      "text/plain": [
       "<Figure size 700x500 with 1 Axes>"
      ]
     },
     "metadata": {},
     "output_type": "display_data"
    }
   ],
   "source": [
    "#Grafico\n",
    "plt.figure(figsize=(7,5))\n",
    "genero_mas_jugado.plot(kind='bar')\n",
    "plt.title('Top 5 de los generos mas jugados')\n",
    "plt.xlabel('Generos')\n",
    "plt.ylabel('Horas')\n",
    "plt.xticks(rotation=0)\n",
    "plt.show()"
   ]
  },
  {
   "cell_type": "markdown",
   "metadata": {},
   "source": [
    "El juego al que más horas se le ha dedicado es al juego llamado 'Bare Metal' y el género preferido es el Indie, seguido por Action.\n",
    "\n",
    "A continuación veremos el top 10 de los Developers con mayor cantidad de juegos,analizaremos la cantidad de 'sentiment_analysis'  observando su calificación categorica y analizaremos la distribución de precios "
   ]
  },
  {
   "cell_type": "code",
   "execution_count": 12,
   "metadata": {},
   "outputs": [
    {
     "data": {
      "image/png": "[encoded data removed]",
      "text/plain": [
       "<Figure size 640x480 with 1 Axes>"
      ]
     },
     "metadata": {},
     "output_type": "display_data"
    }
   ],
   "source": [
    "# Se revisa la cantidad de juegos por developer\n",
    "count_developer = games['developer'].value_counts()\n",
    "\n",
    "count_developer[:10].plot(kind='barh', color='r')\n",
    "plt.xlabel('Cantidad de Juegos') ; plt.ylabel('Desarrollador') ; plt.title('Top 10 Developers')\n",
    "\n",
    "# Se muestra la gráfica de salida\n",
    "plt.tight_layout()\n",
    "plt.show()"
   ]
  },
  {
   "cell_type": "markdown",
   "metadata": {},
   "source": [
    "## EDA de dataset reviews"
   ]
  },
  {
   "cell_type": "code",
   "execution_count": 13,
   "metadata": {},
   "outputs": [
    {
     "data": {
      "image/png": "[encoded data removed]",
      "text/plain": [
       "<Figure size 700x500 with 1 Axes>"
      ]
     },
     "metadata": {},
     "output_type": "display_data"
    }
   ],
   "source": [
    "#Ahora se hará el EDA respecto al dataframe reviews\n",
    "#En este caso se hará un count plot de analisis de sentimiento\n",
    "\n",
    "# Countplot para 'sentiment_analysis'\n",
    "import seaborn as sns\n",
    "plt.figure(figsize=(7, 5))\n",
    "colors=['#DC4844','#D5DADB','#1EDBA1']\n",
    "sns.countplot(data=reviews, x='sentiment_analysis', palette=colors)\n",
    "plt.xlabel('Análisis de Sentimiento')\n",
    "plt.ylabel('Cantidad')\n",
    "plt.legend(labels=['0: \"Malo\"', '1: \"Neutral\"', '2: \"Positivo\"'])\n",
    "plt.tight_layout()\n",
    "plt.show()"
   ]
  },
  {
   "cell_type": "code",
   "execution_count": 14,
   "metadata": {},
   "outputs": [
    {
     "name": "stdout",
     "output_type": "stream",
     "text": [
      "Cantidad de usuarios únicos que opinaron: 22783\n"
     ]
    }
   ],
   "source": [
    "# Cantidad de usuarios que dieron su opinion\n",
    "print(f\"Cantidad de usuarios únicos que opinaron: {len(reviews['user_id'].unique())}\")"
   ]
  },
  {
   "cell_type": "markdown",
   "metadata": {},
   "source": [
    "Observando este gráfico y leyendo la cantidad de usuarios que dierón su opinión podemos diferir que ubierón usuarios que dierón más de una opinión. "
   ]
  },
  {
   "cell_type": "code",
   "execution_count": 15,
   "metadata": {},
   "outputs": [
    {
     "data": {
      "text/plain": [
       "Text(0.5, 1.0, 'Distribución de precios de los juegos')"
      ]
     },
     "execution_count": 15,
     "metadata": {},
     "output_type": "execute_result"
    },
    {
     "data": {
      "image/png": "[encoded data removed]",
      "text/plain": [
       "<Figure size 1400x400 with 1 Axes>"
      ]
     },
     "metadata": {},
     "output_type": "display_data"
    }
   ],
   "source": [
    "#Distribución de precio\n",
    "# Obtiene los precios para cada juego y hace un dataframe\n",
    "precio_unicos = games.groupby('item_id')['price'].unique().reset_index().explode('price')\n",
    "df_precio_unicos = precio_unicos[['price']]\n",
    "plt.figure(figsize=(14, 4))\n",
    "sns.stripplot(data=df_precio_unicos, x='price')\n",
    "plt.xlabel('Precio') \n",
    "plt.ylabel('Cantidad de Juegos') \n",
    "plt.title('Distribución de precios de los juegos')"
   ]
  },
  {
   "cell_type": "markdown",
   "metadata": {},
   "source": [
    "Observando la distribución de precios podemos ver que  que a partir de los 200 los juegos conseguidos por un valor menor son muy pocos y no estarian en un mercado altamente competitivo."
   ]
  },
  {
   "cell_type": "markdown",
   "metadata": {},
   "source": [
    "###  Analizando la columna 'reviews_date'"
   ]
  },
  {
   "cell_type": "code",
   "execution_count": 16,
   "metadata": {},
   "outputs": [
    {
     "data": {
      "text/html": [
       "<div>\n",
       "<style scoped>\n",
       "    .dataframe tbody tr th:only-of-type {\n",
       "        vertical-align: middle;\n",
       "    }\n",
       "\n",
       "    .dataframe tbody tr th {\n",
       "        vertical-align: top;\n",
       "    }\n",
       "\n",
       "    .dataframe thead th {\n",
       "        text-align: right;\n",
       "    }\n",
       "</style>\n",
       "<table border=\"1\" class=\"dataframe\">\n",
       "  <thead>\n",
       "    <tr style=\"text-align: right;\">\n",
       "      <th></th>\n",
       "      <th>user_id</th>\n",
       "      <th>item_id</th>\n",
       "      <th>reviews_helpful</th>\n",
       "      <th>reviews_recommend</th>\n",
       "      <th>reviews_date</th>\n",
       "      <th>sentiment_analysis</th>\n",
       "    </tr>\n",
       "  </thead>\n",
       "  <tbody>\n",
       "    <tr>\n",
       "      <th>0</th>\n",
       "      <td>76561197970982479</td>\n",
       "      <td>1250</td>\n",
       "      <td>No ratings yet</td>\n",
       "      <td>True</td>\n",
       "      <td>2011-11-05</td>\n",
       "      <td>2</td>\n",
       "    </tr>\n",
       "    <tr>\n",
       "      <th>1</th>\n",
       "      <td>js41637</td>\n",
       "      <td>251610</td>\n",
       "      <td>15 of 20 people (75%) found this review helpful</td>\n",
       "      <td>True</td>\n",
       "      <td>2014-06-24</td>\n",
       "      <td>2</td>\n",
       "    </tr>\n",
       "    <tr>\n",
       "      <th>2</th>\n",
       "      <td>doctr</td>\n",
       "      <td>250320</td>\n",
       "      <td>2 of 2 people (100%) found this review helpful</td>\n",
       "      <td>True</td>\n",
       "      <td>2013-10-14</td>\n",
       "      <td>2</td>\n",
       "    </tr>\n",
       "    <tr>\n",
       "      <th>3</th>\n",
       "      <td>maplemage</td>\n",
       "      <td>211420</td>\n",
       "      <td>35 of 43 people (81%) found this review helpful</td>\n",
       "      <td>True</td>\n",
       "      <td>2014-04-15</td>\n",
       "      <td>1</td>\n",
       "    </tr>\n",
       "    <tr>\n",
       "      <th>4</th>\n",
       "      <td>Wackky</td>\n",
       "      <td>249130</td>\n",
       "      <td>7 of 8 people (88%) found this review helpful</td>\n",
       "      <td>True</td>\n",
       "      <td>2014-05-05</td>\n",
       "      <td>0</td>\n",
       "    </tr>\n",
       "  </tbody>\n",
       "</table>\n",
       "</div>"
      ],
      "text/plain": [
       "             user_id item_id                                  reviews_helpful  \\\n",
       "0  76561197970982479    1250                                   No ratings yet   \n",
       "1            js41637  251610  15 of 20 people (75%) found this review helpful   \n",
       "2              doctr  250320   2 of 2 people (100%) found this review helpful   \n",
       "3          maplemage  211420  35 of 43 people (81%) found this review helpful   \n",
       "4             Wackky  249130    7 of 8 people (88%) found this review helpful   \n",
       "\n",
       "   reviews_recommend reviews_date  sentiment_analysis  \n",
       "0               True   2011-11-05                   2  \n",
       "1               True   2014-06-24                   2  \n",
       "2               True   2013-10-14                   2  \n",
       "3               True   2014-04-15                   1  \n",
       "4               True   2014-05-05                   0  "
      ]
     },
     "execution_count": 16,
     "metadata": {},
     "output_type": "execute_result"
    }
   ],
   "source": [
    "reviews.head()"
   ]
  },
  {
   "cell_type": "markdown",
   "metadata": {},
   "source": [
    "Se revisan la cantidad de fechas con formato inválido o que no tenían fecha en el conjunto de datos original.\n",
    "\n"
   ]
  },
  {
   "cell_type": "code",
   "execution_count": 17,
   "metadata": {},
   "outputs": [
    {
     "name": "stdout",
     "output_type": "stream",
     "text": [
      "La cantidad de fechas en formato inválido son: 0\n"
     ]
    }
   ],
   "source": [
    "print(f'La cantidad de fechas en formato inválido son: {len(reviews[reviews[\"reviews_date\"]==\"Formato inválido\"])}')\n"
   ]
  },
  {
   "cell_type": "code",
   "execution_count": 19,
   "metadata": {},
   "outputs": [
    {
     "data": {
      "image/png": "[encoded data removed]",
      "text/plain": [
       "<Figure size 1400x400 with 1 Axes>"
      ]
     },
     "metadata": {},
     "output_type": "display_data"
    }
   ],
   "source": [
    "# Calcula la cantidad de review por fecha\n",
    "\n",
    "#Convertir la columna de fecha a tipo de datos de fecha\n",
    "reviews['reviews_date'] = pd.to_datetime(reviews['reviews_date'])\n",
    "\n",
    "# Extraer el año de la fecha\n",
    "reviews['year'] = reviews['reviews_date'].dt.year\n",
    "\n",
    "# Calcular la cantidad de reviews por año\n",
    "\n",
    "#agrupamos por año\n",
    "df_counts = reviews.groupby(\"year\").count()\n",
    "\n",
    " #Graficar\n",
    "plt.figure(figsize=(14, 4))\n",
    "sns.lineplot(data=df_counts, x=df_counts.index, y=\"reviews_recommend\")\n",
    "plt.xlabel('Año')\n",
    "plt.ylabel('Cantidad de reviews')\n",
    "plt.show()"
   ]
  },
  {
   "cell_type": "code",
   "execution_count": 20,
   "metadata": {},
   "outputs": [
    {
     "name": "stdout",
     "output_type": "stream",
     "text": [
      "Años de cantidad pico de reviews\n"
     ]
    },
    {
     "data": {
      "text/plain": [
       "year\n",
       "2014    21984\n",
       "2015    18411\n",
       "2013     6734\n",
       "2012     1194\n",
       "2011      524\n",
       "Name: reviews_recommend, dtype: int64"
      ]
     },
     "execution_count": 20,
     "metadata": {},
     "output_type": "execute_result"
    }
   ],
   "source": [
    "print('Años de cantidad pico de reviews')\n",
    "df_counts.sort_values(by='reviews_recommend', ascending=False)['reviews_recommend'][:5]"
   ]
  },
  {
   "cell_type": "markdown",
   "metadata": {},
   "source": [
    "La mayor cantidad de reviews se dio en el año 2014 seguido por 2015 se puede observar que hubo un gran auge después del 2013."
   ]
  },
  {
   "cell_type": "markdown",
   "metadata": {},
   "source": [
    "Se asignara una metrica llamada combined_metric que tomara la columna 'reviews_recommend' y 'sentiment_analysis', para en base a esta metrica aplicar SIMILITUD del COSENO."
   ]
  },
  {
   "cell_type": "code",
   "execution_count": 24,
   "metadata": {},
   "outputs": [],
   "source": [
    "# Se asigna pesos a cada característica\n",
    "weight_reviews = 0.7\n",
    "weight_sentiment = 0.3"
   ]
  },
  {
   "cell_type": "code",
   "execution_count": 25,
   "metadata": {},
   "outputs": [],
   "source": [
    "# Se calcula la métrica combinada\n",
    "reviews['combined_metric'] = (weight_reviews * reviews['reviews_recommend'].astype(int)) + (weight_sentiment * reviews['sentiment_analysis'])"
   ]
  },
  {
   "cell_type": "code",
   "execution_count": 26,
   "metadata": {},
   "outputs": [
    {
     "data": {
      "text/html": [
       "<div>\n",
       "<style scoped>\n",
       "    .dataframe tbody tr th:only-of-type {\n",
       "        vertical-align: middle;\n",
       "    }\n",
       "\n",
       "    .dataframe tbody tr th {\n",
       "        vertical-align: top;\n",
       "    }\n",
       "\n",
       "    .dataframe thead th {\n",
       "        text-align: right;\n",
       "    }\n",
       "</style>\n",
       "<table border=\"1\" class=\"dataframe\">\n",
       "  <thead>\n",
       "    <tr style=\"text-align: right;\">\n",
       "      <th></th>\n",
       "      <th>user_id</th>\n",
       "      <th>item_id</th>\n",
       "      <th>combined_metric</th>\n",
       "    </tr>\n",
       "  </thead>\n",
       "  <tbody>\n",
       "    <tr>\n",
       "      <th>0</th>\n",
       "      <td>76561197970982479</td>\n",
       "      <td>1250</td>\n",
       "      <td>0.7</td>\n",
       "    </tr>\n",
       "    <tr>\n",
       "      <th>1</th>\n",
       "      <td>js41637</td>\n",
       "      <td>251610</td>\n",
       "      <td>0.7</td>\n",
       "    </tr>\n",
       "    <tr>\n",
       "      <th>2</th>\n",
       "      <td>doctr</td>\n",
       "      <td>250320</td>\n",
       "      <td>0.7</td>\n",
       "    </tr>\n",
       "  </tbody>\n",
       "</table>\n",
       "</div>"
      ],
      "text/plain": [
       "             user_id item_id  combined_metric\n",
       "0  76561197970982479    1250              0.7\n",
       "1            js41637  251610              0.7\n",
       "2              doctr  250320              0.7"
      ]
     },
     "execution_count": 26,
     "metadata": {},
     "output_type": "execute_result"
    }
   ],
   "source": [
    "#Se dejan unicamente las columnas necesarias\n",
    "df_reviews = reviews[['user_id', 'item_id', 'combined_metric']]\n",
    "df_reviews.head(3)"
   ]
  },
  {
   "cell_type": "markdown",
   "metadata": {},
   "source": [
    "## EDA del dataset user_items"
   ]
  },
  {
   "cell_type": "code",
   "execution_count": 21,
   "metadata": {},
   "outputs": [
    {
     "data": {
      "text/html": [
       "<div>\n",
       "<style scoped>\n",
       "    .dataframe tbody tr th:only-of-type {\n",
       "        vertical-align: middle;\n",
       "    }\n",
       "\n",
       "    .dataframe tbody tr th {\n",
       "        vertical-align: top;\n",
       "    }\n",
       "\n",
       "    .dataframe thead th {\n",
       "        text-align: right;\n",
       "    }\n",
       "</style>\n",
       "<table border=\"1\" class=\"dataframe\">\n",
       "  <thead>\n",
       "    <tr style=\"text-align: right;\">\n",
       "      <th></th>\n",
       "      <th>item_id</th>\n",
       "      <th>playtime_forever</th>\n",
       "      <th>playtime_2weeks</th>\n",
       "      <th>user_id</th>\n",
       "      <th>items_count</th>\n",
       "      <th>steam_id</th>\n",
       "    </tr>\n",
       "  </thead>\n",
       "  <tbody>\n",
       "    <tr>\n",
       "      <th>0</th>\n",
       "      <td>10</td>\n",
       "      <td>6</td>\n",
       "      <td>0</td>\n",
       "      <td>76561197970982479</td>\n",
       "      <td>277</td>\n",
       "      <td>76561197970982479</td>\n",
       "    </tr>\n",
       "    <tr>\n",
       "      <th>1</th>\n",
       "      <td>20</td>\n",
       "      <td>0</td>\n",
       "      <td>0</td>\n",
       "      <td>76561197970982479</td>\n",
       "      <td>277</td>\n",
       "      <td>76561197970982479</td>\n",
       "    </tr>\n",
       "    <tr>\n",
       "      <th>2</th>\n",
       "      <td>30</td>\n",
       "      <td>7</td>\n",
       "      <td>0</td>\n",
       "      <td>76561197970982479</td>\n",
       "      <td>277</td>\n",
       "      <td>76561197970982479</td>\n",
       "    </tr>\n",
       "    <tr>\n",
       "      <th>3</th>\n",
       "      <td>40</td>\n",
       "      <td>0</td>\n",
       "      <td>0</td>\n",
       "      <td>76561197970982479</td>\n",
       "      <td>277</td>\n",
       "      <td>76561197970982479</td>\n",
       "    </tr>\n",
       "    <tr>\n",
       "      <th>4</th>\n",
       "      <td>50</td>\n",
       "      <td>0</td>\n",
       "      <td>0</td>\n",
       "      <td>76561197970982479</td>\n",
       "      <td>277</td>\n",
       "      <td>76561197970982479</td>\n",
       "    </tr>\n",
       "    <tr>\n",
       "      <th>...</th>\n",
       "      <td>...</td>\n",
       "      <td>...</td>\n",
       "      <td>...</td>\n",
       "      <td>...</td>\n",
       "      <td>...</td>\n",
       "      <td>...</td>\n",
       "    </tr>\n",
       "    <tr>\n",
       "      <th>5153204</th>\n",
       "      <td>346330</td>\n",
       "      <td>0</td>\n",
       "      <td>0</td>\n",
       "      <td>76561198329548331</td>\n",
       "      <td>7</td>\n",
       "      <td>76561198329548331</td>\n",
       "    </tr>\n",
       "    <tr>\n",
       "      <th>5153205</th>\n",
       "      <td>373330</td>\n",
       "      <td>0</td>\n",
       "      <td>0</td>\n",
       "      <td>76561198329548331</td>\n",
       "      <td>7</td>\n",
       "      <td>76561198329548331</td>\n",
       "    </tr>\n",
       "    <tr>\n",
       "      <th>5153206</th>\n",
       "      <td>388490</td>\n",
       "      <td>3</td>\n",
       "      <td>3</td>\n",
       "      <td>76561198329548331</td>\n",
       "      <td>7</td>\n",
       "      <td>76561198329548331</td>\n",
       "    </tr>\n",
       "    <tr>\n",
       "      <th>5153207</th>\n",
       "      <td>521570</td>\n",
       "      <td>4</td>\n",
       "      <td>4</td>\n",
       "      <td>76561198329548331</td>\n",
       "      <td>7</td>\n",
       "      <td>76561198329548331</td>\n",
       "    </tr>\n",
       "    <tr>\n",
       "      <th>5153208</th>\n",
       "      <td>519140</td>\n",
       "      <td>3</td>\n",
       "      <td>3</td>\n",
       "      <td>76561198329548331</td>\n",
       "      <td>7</td>\n",
       "      <td>76561198329548331</td>\n",
       "    </tr>\n",
       "  </tbody>\n",
       "</table>\n",
       "<p>5153209 rows × 6 columns</p>\n",
       "</div>"
      ],
      "text/plain": [
       "        item_id  playtime_forever  playtime_2weeks            user_id  \\\n",
       "0            10                 6                0  76561197970982479   \n",
       "1            20                 0                0  76561197970982479   \n",
       "2            30                 7                0  76561197970982479   \n",
       "3            40                 0                0  76561197970982479   \n",
       "4            50                 0                0  76561197970982479   \n",
       "...         ...               ...              ...                ...   \n",
       "5153204  346330                 0                0  76561198329548331   \n",
       "5153205  373330                 0                0  76561198329548331   \n",
       "5153206  388490                 3                3  76561198329548331   \n",
       "5153207  521570                 4                4  76561198329548331   \n",
       "5153208  519140                 3                3  76561198329548331   \n",
       "\n",
       "         items_count           steam_id  \n",
       "0                277  76561197970982479  \n",
       "1                277  76561197970982479  \n",
       "2                277  76561197970982479  \n",
       "3                277  76561197970982479  \n",
       "4                277  76561197970982479  \n",
       "...              ...                ...  \n",
       "5153204            7  76561198329548331  \n",
       "5153205            7  76561198329548331  \n",
       "5153206            7  76561198329548331  \n",
       "5153207            7  76561198329548331  \n",
       "5153208            7  76561198329548331  \n",
       "\n",
       "[5153209 rows x 6 columns]"
      ]
     },
     "execution_count": 21,
     "metadata": {},
     "output_type": "execute_result"
    }
   ],
   "source": [
    "items"
   ]
  },
  {
   "cell_type": "code",
   "execution_count": 22,
   "metadata": {},
   "outputs": [],
   "source": [
    "# Se unen la cantidad de usuarios e items para realizar el conteo\n",
    "items_count_user = items.groupby('user_id')['items_count'].count().reset_index()\n",
    "items_count_user = items_count_user.sort_values('items_count',ascending=False)\n",
    "\n",
    "#Crear el gráfico\n",
    "plt.figure(figsize=(12,2))\n",
    "sns.boxplot(data=items_count_user, x='items_count', color='skyblue')\n",
    "plt.xlabel('Cantidad de items por usuario')\n",
    "plt.title('')\n",
    "\n"
   ]
  },
  {
   "cell_type": "code",
   "execution_count": 23,
   "metadata": {},
   "outputs": [
    {
     "data": {
      "image/png": "[encoded data removed]",
      "text/plain": [
       "<Figure size 1200x200 with 1 Axes>"
      ]
     },
     "metadata": {},
     "output_type": "display_data"
    }
   ],
   "source": [
    "# Crear el gráfico de caja (boxplot)\n",
    "plt.figure(figsize=(12, 2))\n",
    "sns.boxplot(data=items_count_user, x='items_count', color='skyblue')\n",
    "plt.xlabel('Cantidad de items por usuario')\n",
    "plt.title('Distribución de la cantidad de items por usuario')\n",
    "plt.show()"
   ]
  },
  {
   "cell_type": "markdown",
   "metadata": {},
   "source": [
    "Se asignara una metrica llamada combined_metric que tomara la columna 'reviews_recommend' y 'sentiment_analysis', para en base a esta metrica aplicar SIMILITUD del COSENO."
   ]
  },
  {
   "cell_type": "code",
   "execution_count": 27,
   "metadata": {},
   "outputs": [],
   "source": [
    "# Se asigna pesos a cada característica\n",
    "weight_reviews = 0.7\n",
    "weight_sentiment = 0.3"
   ]
  },
  {
   "cell_type": "code",
   "execution_count": 28,
   "metadata": {},
   "outputs": [],
   "source": [
    "# Se calcula la métrica combinada\n",
    "reviews['combined_metric'] = (weight_reviews * reviews['reviews_recommend'].astype(int)) + (weight_sentiment * reviews['sentiment_analysis'])"
   ]
  },
  {
   "cell_type": "code",
   "execution_count": 29,
   "metadata": {},
   "outputs": [
    {
     "data": {
      "text/html": [
       "<div>\n",
       "<style scoped>\n",
       "    .dataframe tbody tr th:only-of-type {\n",
       "        vertical-align: middle;\n",
       "    }\n",
       "\n",
       "    .dataframe tbody tr th {\n",
       "        vertical-align: top;\n",
       "    }\n",
       "\n",
       "    .dataframe thead th {\n",
       "        text-align: right;\n",
       "    }\n",
       "</style>\n",
       "<table border=\"1\" class=\"dataframe\">\n",
       "  <thead>\n",
       "    <tr style=\"text-align: right;\">\n",
       "      <th></th>\n",
       "      <th>user_id</th>\n",
       "      <th>item_id</th>\n",
       "      <th>combined_metric</th>\n",
       "    </tr>\n",
       "  </thead>\n",
       "  <tbody>\n",
       "    <tr>\n",
       "      <th>0</th>\n",
       "      <td>76561197970982479</td>\n",
       "      <td>1250</td>\n",
       "      <td>1.3</td>\n",
       "    </tr>\n",
       "    <tr>\n",
       "      <th>1</th>\n",
       "      <td>js41637</td>\n",
       "      <td>251610</td>\n",
       "      <td>1.3</td>\n",
       "    </tr>\n",
       "    <tr>\n",
       "      <th>2</th>\n",
       "      <td>doctr</td>\n",
       "      <td>250320</td>\n",
       "      <td>1.3</td>\n",
       "    </tr>\n",
       "  </tbody>\n",
       "</table>\n",
       "</div>"
      ],
      "text/plain": [
       "             user_id item_id  combined_metric\n",
       "0  76561197970982479    1250              1.3\n",
       "1            js41637  251610              1.3\n",
       "2              doctr  250320              1.3"
      ]
     },
     "execution_count": 29,
     "metadata": {},
     "output_type": "execute_result"
    }
   ],
   "source": [
    "#Se dejan unicamente las columnas necesarias\n",
    "df_reviews = reviews[['user_id', 'item_id', 'combined_metric']]\n",
    "df_reviews.head(3)"
   ]
  },
  {
   "cell_type": "code",
   "execution_count": 31,
   "metadata": {},
   "outputs": [],
   "source": [
    "# Se toman las columnas necesarias del dataset items y se borran los dumplicados\n",
    "df_items = items[['item_id']]\n",
    "df_items = items.drop_duplicates()"
   ]
  },
  {
   "cell_type": "code",
   "execution_count": null,
   "metadata": {},
   "outputs": [],
   "source": [
    "#Se agrega este df de items con los nombres de los juegos al df de reviews\n",
    "df_for_pivot = df_reviews.merge(df_items, left_on=\"item_id\", right_on=\"item_id\", how='left')"
   ]
  }
 ],
 "metadata": {
  "kernelspec": {
   "display_name": "Python 3",
   "language": "python",
   "name": "python3"
  },
  "language_info": {
   "codemirror_mode": {
    "name": "ipython",
    "version": 3
   },
   "file_extension": ".py",
   "mimetype": "text/x-python",
   "name": "python",
   "nbconvert_exporter": "python",
   "pygments_lexer": "ipython3",
   "version": "3.12.2"
  }
 },
 "nbformat": 4,
 "nbformat_minor": 2
}
